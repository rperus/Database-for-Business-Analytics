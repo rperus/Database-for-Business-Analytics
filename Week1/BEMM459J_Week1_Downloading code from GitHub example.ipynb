{
 "cells": [
  {
   "cell_type": "markdown",
   "metadata": {},
   "source": [
    "# BEMM459J \n",
    "# How to access the code from GitHub and open in Jupyter notebook?\n",
    "\n",
    "1. https://github.com/NavonilNM/BEMM459_RDBMS_NoSQL/ and click on week number (director)\n",
    "2. First click on Raw.\n",
    "3. Then, press ctrl+s to save it as . ipynb (Note that you'll have to manually type '. ipynb' after the file name to make this work, as files from GitHub are saved as text files as default.)\n",
    "4. Open jupyter notebook.\n",
    "5. Go to location where you saved .ipynb file.\n",
    "6. Open file, you will see the code."
   ]
  },
  {
   "cell_type": "code",
   "execution_count": 9,
   "metadata": {},
   "outputs": [
    {
     "name": "stdout",
     "output_type": "stream",
     "text": [
      "Welcome to BEMM459J Week 1 Cohort Learning!\n"
     ]
    }
   ],
   "source": [
    "print(\"Welcome to BEMM459J Week 1 Cohort Learning!\")"
   ]
  },
  {
   "cell_type": "markdown",
   "metadata": {},
   "source": [
    "### Multi-line examples"
   ]
  },
  {
   "cell_type": "code",
   "execution_count": 2,
   "metadata": {},
   "outputs": [
    {
     "name": "stdout",
     "output_type": "stream",
     "text": [
      "This is an example of multi-line text\n"
     ]
    }
   ],
   "source": [
    "print(\"This is \\\n",
    "an example of multi-line \\\n",
    "text\")"
   ]
  },
  {
   "cell_type": "code",
   "execution_count": 3,
   "metadata": {},
   "outputs": [
    {
     "data": {
      "text/plain": [
       "'This is another example of multi-line text but using a variable. The variable is then invoked in the next line'"
      ]
     },
     "execution_count": 3,
     "metadata": {},
     "output_type": "execute_result"
    }
   ],
   "source": [
    "var=\"This is another \\\n",
    "example of multi-line \\\n",
    "text but using a variable. \\\n",
    "The variable is then invoked in the next line\"\n",
    "#displaying variable value\n",
    "var"
   ]
  },
  {
   "cell_type": "markdown",
   "metadata": {},
   "source": [
    "### Loop"
   ]
  },
  {
   "cell_type": "code",
   "execution_count": 10,
   "metadata": {},
   "outputs": [
    {
     "name": "stdout",
     "output_type": "stream",
     "text": [
      "BEMM114J\n",
      "BEMM159J\n",
      "BEMM112J\n",
      "BEMM459J\n",
      "BEMM254J\n",
      "BEMM123J\n"
     ]
    }
   ],
   "source": [
    "# print the modules\n",
    "modules = [\"BEMM114J\", \"BEMM159J\", \"BEMM112J\", \"BEMM459J\", \"BEMM254J\", \"BEMM123J\"]\n",
    "for i in modules:\n",
    "    print(i)"
   ]
  },
  {
   "cell_type": "code",
   "execution_count": 11,
   "metadata": {},
   "outputs": [
    {
     "name": "stdout",
     "output_type": "stream",
     "text": [
      "BEMM114J\n",
      "Not found. Continuing to loop through the elements\n",
      "BEMM159J\n",
      "Not found. Continuing to loop through the elements\n",
      "BEMM112J\n",
      "Not found. Continuing to loop through the elements\n",
      "BEMM459J\n",
      "Found. Now exiting\n"
     ]
    }
   ],
   "source": [
    "# loop through the modules and exit when BEMM459\n",
    "module = [\"BEMM114J\", \"BEMM159J\", \"BEMM112J\", \"BEMM459J\", \"BEMM254J\", \"BEMM123J\"]\n",
    "for i in modules:\n",
    "    print(i)\n",
    "    if i == \"BEMM459J\":\n",
    "        print(\"Found. Now exiting\")\n",
    "        break\n",
    "    else:\n",
    "        print(\"Not found. Continuing to loop through the elements\")"
   ]
  },
  {
   "cell_type": "markdown",
   "metadata": {},
   "source": [
    "### Nested Loops\n"
   ]
  },
  {
   "cell_type": "code",
   "execution_count": 12,
   "metadata": {},
   "outputs": [
    {
     "name": "stdout",
     "output_type": "stream",
     "text": [
      "BEMM114J Assignment 1\n",
      "BEMM114J Assignment 2\n",
      "BEMM114J Final Exam\n",
      "\n",
      "\n",
      "BEMM159J Assignment 1\n",
      "BEMM159J Assignment 2\n",
      "BEMM159J Final Exam\n",
      "\n",
      "\n",
      "BEMM112J Assignment 1\n",
      "BEMM112J Assignment 2\n",
      "BEMM112J Final Exam\n",
      "\n",
      "\n",
      "BEMM459J Assignment 1\n",
      "BEMM459J Final Exam\n",
      "\n",
      "\n",
      "BEMM254J Assignment 1\n",
      "BEMM254J Assignment 2\n",
      "BEMM254J Final Exam\n",
      "\n",
      "\n",
      "BEMM123J Assignment 1\n",
      "BEMM123J Assignment 2\n",
      "BEMM123J Final Exam\n",
      "\n",
      "\n"
     ]
    }
   ],
   "source": [
    "module = [\"BEMM114J\", \"BEMM159J\", \"BEMM112J\", \"BEMM459J\", \"BEMM254J\", \"BEMM123J\"]\n",
    "assessment = [\"Assignment 1\", \"Assignment 2\", \"Final Exam\"]\n",
    "\n",
    "for i in module:\n",
    "    for j in assessment:\n",
    "        if i == \"BEMM459J\":\n",
    "            if j == \"Assignment 2\":\n",
    "                continue   \n",
    "            else:\n",
    "                print(i, j)\n",
    "        else:\n",
    "            print(i, j)\n",
    "    print(\"\\n\")"
   ]
  },
  {
   "cell_type": "markdown",
   "metadata": {},
   "source": [
    "### Interactive"
   ]
  },
  {
   "cell_type": "code",
   "execution_count": 7,
   "metadata": {},
   "outputs": [
    {
     "name": "stdout",
     "output_type": "stream",
     "text": [
      "Please enter your name:Hello\n",
      "Hello Hello . This is the first class!\n"
     ]
    }
   ],
   "source": [
    "name=input('Please enter your name:')\n",
    "print ('Hello', name, '. This is the first class!')"
   ]
  },
  {
   "cell_type": "code",
   "execution_count": 8,
   "metadata": {},
   "outputs": [
    {
     "name": "stdout",
     "output_type": "stream",
     "text": [
      "Please enter length:5\n",
      "Please enter breadth:4\n",
      "length: 5 breadth: 4 area= 20\n"
     ]
    }
   ],
   "source": [
    "length=int(input('Please enter length:'))\n",
    "breadth=int(input('Please enter breadth:'))\n",
    "area=length*breadth\n",
    "print ('length:',length, 'breadth:', breadth, end=' ')\n",
    "print ('area=',area)"
   ]
  },
  {
   "cell_type": "code",
   "execution_count": null,
   "metadata": {},
   "outputs": [],
   "source": []
  }
 ],
 "metadata": {
  "kernelspec": {
   "display_name": "Python 3",
   "language": "python",
   "name": "python3"
  },
  "language_info": {
   "codemirror_mode": {
    "name": "ipython",
    "version": 3
   },
   "file_extension": ".py",
   "mimetype": "text/x-python",
   "name": "python",
   "nbconvert_exporter": "python",
   "pygments_lexer": "ipython3",
   "version": "3.7.3"
  }
 },
 "nbformat": 4,
 "nbformat_minor": 4
}
