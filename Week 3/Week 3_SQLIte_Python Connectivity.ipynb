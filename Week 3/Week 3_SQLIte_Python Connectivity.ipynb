{
 "cells": [
  {
   "cell_type": "markdown",
   "metadata": {},
   "source": [
    "# BEMM459J (Week 3)\n",
    "## Testing connection with Sqlite3\n",
    "## We are using chinook database"
   ]
  },
  {
   "cell_type": "code",
   "execution_count": 1,
   "metadata": {},
   "outputs": [],
   "source": [
    "# Import library\n",
    "import sqlite3\n",
    "\n",
    "# Connect to the Database - the DATABASE must already exisit\n",
    "# Example of path: 'S:\\\\SQLite\\\\Week 3\\\\XXX.db'\n",
    "conn=sqlite3.connect(\"Z:\\\\OneDrive\\\\Python\\\\BEMM459_RDBMS_NoSQL-main\\\\Week 3\\\\chinook.db\")\n",
    "cur=conn.cursor()"
   ]
  },
  {
   "cell_type": "code",
   "execution_count": 2,
   "metadata": {},
   "outputs": [
    {
     "name": "stdout",
     "output_type": "stream",
     "text": [
      "(1, 'Rock')\n",
      "(2, 'Jazz')\n",
      "(3, 'Metal')\n",
      "(4, 'Alternative & Punk')\n",
      "(5, 'Rock And Roll')\n",
      "(6, 'Blues')\n",
      "(7, 'Latin')\n",
      "(8, 'Reggae')\n",
      "(9, 'Pop')\n",
      "(10, 'Soundtrack')\n",
      "(11, 'Bossa Nova')\n",
      "(12, 'Easy Listening')\n",
      "(13, 'Heavy Metal')\n",
      "(14, 'R&B/Soul')\n",
      "(15, 'Electronica/Dance')\n",
      "(16, 'World')\n",
      "(17, 'Hip Hop/Rap')\n",
      "(18, 'Science Fiction')\n",
      "(19, 'TV Shows')\n",
      "(20, 'Sci Fi & Fantasy')\n",
      "(21, 'Drama')\n",
      "(22, 'Comedy')\n",
      "(23, 'Alternative')\n",
      "(24, 'Classical')\n",
      "(25, 'Opera')\n"
     ]
    }
   ],
   "source": [
    "# Query data from the table - Note: STUDENT table must exist\n",
    "\n",
    "# Prepare the query String\n",
    "qry=\"select * from Genres;\"\n",
    "\n",
    "# Execute query on SQLite\n",
    "cur.execute(qry)\n",
    "\n",
    "# Display rows\n",
    "rows=cur.fetchall()\n",
    "\n",
    "for row in rows:\n",
    "    print (row)"
   ]
  },
  {
   "cell_type": "code",
   "execution_count": 3,
   "metadata": {},
   "outputs": [
    {
     "data": {
      "text/plain": [
       "<sqlite3.Cursor at 0x25a2046f3b0>"
      ]
     },
     "execution_count": 3,
     "metadata": {},
     "output_type": "execute_result"
    }
   ],
   "source": [
    "# Insert values into table\n",
    "qry=\"insert into Genres values (26,'Film soundtrack');\"\n",
    "cur.execute(qry)\n"
   ]
  },
  {
   "cell_type": "code",
   "execution_count": 4,
   "metadata": {},
   "outputs": [],
   "source": [
    "# Commit data to database/ Save teh record from the database\n",
    "conn.commit()\n"
   ]
  },
  {
   "cell_type": "code",
   "execution_count": 5,
   "metadata": {},
   "outputs": [
    {
     "name": "stdout",
     "output_type": "stream",
     "text": [
      "(1, 'Rock')\n",
      "(2, 'Jazz')\n",
      "(3, 'Metal')\n",
      "(4, 'Alternative & Punk')\n",
      "(5, 'Rock And Roll')\n",
      "(6, 'Blues')\n",
      "(7, 'Latin')\n",
      "(8, 'Reggae')\n",
      "(9, 'Pop')\n",
      "(10, 'Soundtrack')\n",
      "(11, 'Bossa Nova')\n",
      "(12, 'Easy Listening')\n",
      "(13, 'Heavy Metal')\n",
      "(14, 'R&B/Soul')\n",
      "(15, 'Electronica/Dance')\n",
      "(16, 'World')\n",
      "(17, 'Hip Hop/Rap')\n",
      "(18, 'Science Fiction')\n",
      "(19, 'TV Shows')\n",
      "(20, 'Sci Fi & Fantasy')\n",
      "(21, 'Drama')\n",
      "(22, 'Comedy')\n",
      "(23, 'Alternative')\n",
      "(24, 'Classical')\n",
      "(25, 'Opera')\n",
      "(26, 'Film soundtrack')\n"
     ]
    }
   ],
   "source": [
    "# Prepare the query String\n",
    "qry=\"select * from Genres;\"\n",
    "\n",
    "# Execute query on SQLite\n",
    "cur.execute(qry)\n",
    "\n",
    "# Display rows\n",
    "rows=cur.fetchall()\n",
    "\n",
    "for row in rows:\n",
    "    print (row)"
   ]
  },
  {
   "cell_type": "code",
   "execution_count": 6,
   "metadata": {},
   "outputs": [],
   "source": [
    "# Close database connection\n",
    "conn.close()"
   ]
  },
  {
   "cell_type": "code",
   "execution_count": null,
   "metadata": {},
   "outputs": [],
   "source": []
  }
 ],
 "metadata": {
  "kernelspec": {
   "display_name": "Python 3",
   "language": "python",
   "name": "python3"
  },
  "language_info": {
   "codemirror_mode": {
    "name": "ipython",
    "version": 3
   },
   "file_extension": ".py",
   "mimetype": "text/x-python",
   "name": "python",
   "nbconvert_exporter": "python",
   "pygments_lexer": "ipython3",
   "version": "3.8.5"
  }
 },
 "nbformat": 4,
 "nbformat_minor": 2
}
